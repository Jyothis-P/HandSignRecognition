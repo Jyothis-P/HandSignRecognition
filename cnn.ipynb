{
 "cells": [
  {
   "cell_type": "markdown",
   "metadata": {},
   "source": [
    "#### Importing libraries."
   ]
  },
  {
   "cell_type": "code",
   "execution_count": 11,
   "metadata": {},
   "outputs": [
    {
     "name": "stdout",
     "output_type": "stream",
     "text": [
      "Imports Successful.\n"
     ]
    }
   ],
   "source": [
    "import tensorflow as tf\n",
    "from tensorflow.keras.backend import softmax\n",
    "from tensorflow.keras.utils import to_categorical\n",
    "from tensorflow.keras.models import Sequential\n",
    "from tensorflow.keras.layers import Activation, Dropout, Flatten, Dense, Conv2D, MaxPooling2D \n",
    "import os\n",
    "import cv2\n",
    "import matplotlib.pyplot as plt\n",
    "import numpy as np\n",
    "print('Imports Successful.')"
   ]
  },
  {
   "cell_type": "markdown",
   "metadata": {},
   "source": [
    "#### Loading the dataset"
   ]
  },
  {
   "cell_type": "code",
   "execution_count": 12,
   "metadata": {},
   "outputs": [],
   "source": [
    "X_train, Y_train, X_test, Y_test, X_dev, Y_dev = np.load('dataset.npy', allow_pickle=True)"
   ]
  },
  {
   "cell_type": "code",
   "execution_count": 14,
   "metadata": {},
   "outputs": [],
   "source": [
    "X_train = np.float32(X_train / 255.0)\n",
    "X_test = np.float32(X_test / 255.0)\n",
    "X_dev = np.float32(X_dev / 255.0)\n",
    "\n",
    "m = len(X_train)\n",
    "n = len(X_test)\n",
    "\n",
    "X_train = X_train.reshape((m, 128, 128, 1))\n",
    "Y_train_categorical = to_categorical(Y_train, num_classes=24)\n",
    "X_test = X_test.reshape((n, 128, 128, 1))\n",
    "Y_test_categorical = to_categorical(Y_test, num_classes=24)"
   ]
  },
  {
   "cell_type": "code",
   "execution_count": 15,
   "metadata": {},
   "outputs": [
    {
     "name": "stdout",
     "output_type": "stream",
     "text": [
      "Length of Training set: 3978\n",
      "Length of Test set: 497\n",
      "Length of Dev set: 497\n",
      "\n",
      "Shape of training set: (3978, 128, 128, 1)\n",
      "Shape of lables: (3978, 24)\n",
      "\n",
      "Shape of training set: (497, 128, 128, 1)\n",
      "Shape of lables: (497, 24)\n"
     ]
    }
   ],
   "source": [
    "print(\"Length of Training set:\", m)\n",
    "print(\"Length of Test set:\", len(X_test))\n",
    "print(\"Length of Dev set:\", len(X_dev))\n",
    "print()\n",
    "print(\"Shape of training set:\", X_train.shape)\n",
    "print(\"Shape of lables:\", Y_train_categorical.shape)\n",
    "print()\n",
    "print(\"Shape of training set:\", X_test.shape)\n",
    "print(\"Shape of lables:\", Y_test_categorical.shape)"
   ]
  },
  {
   "cell_type": "code",
   "execution_count": 16,
   "metadata": {},
   "outputs": [
    {
     "data": {
      "text/plain": [
       "array([[0., 0., 0., ..., 0., 0., 0.],\n",
       "       [0., 0., 0., ..., 0., 0., 0.],\n",
       "       [0., 0., 0., ..., 0., 1., 0.],\n",
       "       ...,\n",
       "       [0., 0., 0., ..., 0., 0., 0.],\n",
       "       [0., 0., 0., ..., 0., 0., 0.],\n",
       "       [0., 0., 0., ..., 0., 0., 0.]], dtype=float32)"
      ]
     },
     "execution_count": 16,
     "metadata": {},
     "output_type": "execute_result"
    }
   ],
   "source": [
    "Y_train_categorical"
   ]
  },
  {
   "cell_type": "code",
   "execution_count": 13,
   "metadata": {},
   "outputs": [],
   "source": [
    "def show_image(arr):\n",
    "    plt.imshow(arr, 'gray')\n",
    "    plt.show()"
   ]
  },
  {
   "cell_type": "code",
   "execution_count": 19,
   "metadata": {},
   "outputs": [
    {
     "data": {
      "image/png": "[encoded data removed]",
      "text/plain": [
       "<Figure size 432x288 with 1 Axes>"
      ]
     },
     "metadata": {
      "needs_background": "light"
     },
     "output_type": "display_data"
    },
    {
     "name": "stdout",
     "output_type": "stream",
     "text": [
      "21\n"
     ]
    }
   ],
   "source": [
    "index = 8\n",
    "show_image(X_train[index].reshape((128, 128)))\n",
    "print(Y_train[index])"
   ]
  },
  {
   "cell_type": "code",
   "execution_count": null,
   "metadata": {
    "pycharm": {
     "name": "#%%\n"
    }
   },
   "outputs": [],
   "source": [
    "model = Sequential() \n",
    "model.add(Conv2D(32, (2, 2), input_shape=(128, 128, 1))) \n",
    "model.add(Activation('relu')) \n",
    "model.add(MaxPooling2D(pool_size=(2, 2))) \n",
    "  \n",
    "model.add(Conv2D(32, (2, 2))) \n",
    "model.add(Activation('relu')) \n",
    "model.add(MaxPooling2D(pool_size=(2, 2))) \n",
    "  \n",
    "model.add(Conv2D(64, (2, 2))) \n",
    "model.add(Activation('relu')) \n",
    "model.add(MaxPooling2D(pool_size=(2, 2))) \n",
    "  \n",
    "model.add(Flatten()) \n",
    "model.add(Dense(64)) \n",
    "model.add(Activation('relu')) \n",
    "model.add(Dropout(0.5)) \n",
    "model.add(Dense(24)) \n",
    "model.add(Activation('softmax')) "
   ]
  },
  {
   "cell_type": "code",
   "execution_count": null,
   "metadata": {
    "pycharm": {
     "name": "#%%\n"
    }
   },
   "outputs": [],
   "source": [
    "model.compile(loss='categorical_crossentropy', \n",
    "              optimizer='adam', \n",
    "              metrics=['accuracy']) "
   ]
  },
  {
   "cell_type": "code",
   "execution_count": null,
   "metadata": {
    "pycharm": {
     "name": "#%%\n"
    }
   },
   "outputs": [],
   "source": [
    "history = model.fit( \n",
    "    X_train, \n",
    "    Y_train_categorical,\n",
    "    epochs=10,\n",
    "    validation_split=0.2) "
   ]
  },
  {
   "cell_type": "code",
   "execution_count": null,
   "metadata": {
    "pycharm": {
     "name": "#%%\n"
    }
   },
   "outputs": [],
   "source": [
    "eval_history = model.evaluate(X_test,\n",
    "                             Y_test_categorical)"
   ]
  },
  {
   "cell_type": "code",
   "execution_count": 14,
   "metadata": {
    "pycharm": {
     "name": "#%%\n"
    }
   },
   "outputs": [
    {
     "data": {
      "text/plain": [
       "'J'"
      ]
     },
     "execution_count": 14,
     "metadata": {},
     "output_type": "execute_result"
    }
   ],
   "source": [
    "CATEGORIES = list(map(chr, range(ord('A'), ord('Z'))))\n",
    "CATEGORIES.pop(9)"
   ]
  },
  {
   "cell_type": "code",
   "execution_count": 15,
   "metadata": {
    "pycharm": {
     "name": "#%%\n"
    }
   },
   "outputs": [],
   "source": [
    "def predict(img):\n",
    "    prediction = model.predict_classes(img.reshape(1, 128, 128, 1))\n",
    "    print(\"Prediction:\", CATEGORIES[np.squeeze(prediction)])\n",
    "    show_image(img)"
   ]
  },
  {
   "cell_type": "code",
   "execution_count": null,
   "metadata": {
    "pycharm": {
     "name": "#%%\n"
    }
   },
   "outputs": [],
   "source": [
    "index = 4\n",
    "img_edges = X_test[index].reshape(128, 128)\n",
    "cat = CATEGORIES[Y_test[index]]\n",
    "prediction = model.predict_classes(X_test[index].reshape(1, 128, 128, 1))\n",
    "\n",
    "print(\"Original:\", cat)\n",
    "print(\"Prediction:\", CATEGORIES[np.squeeze(prediction)])\n",
    "show_image(img_edges)"
   ]
  },
  {
   "cell_type": "code",
   "execution_count": 16,
   "metadata": {
    "pycharm": {
     "name": "#%%\n"
    }
   },
   "outputs": [],
   "source": [
    "def mask_skin(frame, visualize_steps= False):\n",
    "    converted2 = cv2.cvtColor(frame, cv2.COLOR_BGR2GRAY)\n",
    "    converted = cv2.cvtColor(frame, cv2.COLOR_BGR2HSV) # Convert from RGB to HSV\n",
    "    \n",
    "    lowerBoundary = np.array([0,40,30],dtype=\"uint8\")\n",
    "    upperBoundary = np.array([43,255,254],dtype=\"uint8\")\n",
    "    \n",
    "    skinMask = cv2.inRange(converted, lowerBoundary, upperBoundary)\n",
    "    skinMask = cv2.addWeighted(skinMask,0.5,skinMask,0.5,0.0)\n",
    "    skinMask = cv2.medianBlur(skinMask, 5)\n",
    "    \n",
    "    skin = cv2.bitwise_and(converted2, converted2, mask = skinMask)\n",
    "    \n",
    "    if visualize_steps:\n",
    "        show_image(cv2.cvtColor(frame, cv2.COLOR_BGR2RGB))\n",
    "        show_image(converted)\n",
    "        show_image(converted2)\n",
    "        show_image(skinMask)\n",
    "    \n",
    "    return skin"
   ]
  },
  {
   "cell_type": "code",
   "execution_count": 17,
   "metadata": {
    "pycharm": {
     "name": "#%%\n"
    }
   },
   "outputs": [],
   "source": [
    "def process_image(img_array, visualize_steps= False):\n",
    "    frame = cv2.resize(img_array, (128, 128))\n",
    "    # frame = cv2.cvtColor(frame, cv2.COLOR_BGR2RGB)\n",
    "    \n",
    "    skin = mask_skin(frame, visualize_steps)\n",
    "    \n",
    "    edges = cv2.Canny(skin,60,60)\n",
    "    \n",
    "    if visualize_steps:\n",
    "        print(\"path:\", path)\n",
    "        print(\"shape:\", img_array.shape)\n",
    "        show_image(skin)\n",
    "        show_image(edges)\n",
    "            \n",
    "    cv2.destroyAllWindows()\n",
    "    return edges"
   ]
  },
  {
   "cell_type": "code",
   "execution_count": null,
   "metadata": {
    "pycharm": {
     "name": "#%%\n"
    }
   },
   "outputs": [],
   "source": [
    "p = r'C:\\Users\\jyoth\\OneDrive\\Pictures\\Camera Roll\\five.jpg'\n",
    "image = cv2.imread(p)\n",
    "edges = process_image(image)\n",
    "predict(edges)"
   ]
  },
  {
   "cell_type": "code",
   "execution_count": null,
   "metadata": {
    "pycharm": {
     "name": "#%%\n"
    }
   },
   "outputs": [],
   "source": [
    "cap = cv2.VideoCapture(0) # video capture source camera (Here webcam of laptop) \n",
    "\n",
    "while(True):\n",
    "    ret,frame = cap.read() # return a single frame in variable `frame`\n",
    "    cv2.imshow('img1',frame) #display the captured image\n",
    "    if cv2.waitKey(1) & 0xFF == ord('y'): #save on pressing 'y'\n",
    "        break\n",
    "\n",
    "cap.release()\n",
    "cv2.destroyAllWindows()\n",
    "\n",
    "edges = process_image(frame)\n",
    "predict(edges)"
   ]
  },
  {
   "cell_type": "code",
   "execution_count": null,
   "outputs": [],
   "source": [
    "model.save('mod')"
   ],
   "metadata": {
    "collapsed": false,
    "pycharm": {
     "name": "#%%\n"
    }
   }
  },
  {
   "cell_type": "code",
   "execution_count": null,
   "outputs": [],
   "source": [
    "model = tf.keras.models.load_model('mod')"
   ],
   "metadata": {
    "collapsed": false,
    "pycharm": {
     "name": "#%%\n"
    }
   }
  },
  {
   "cell_type": "code",
   "execution_count": null,
   "outputs": [],
   "source": [],
   "metadata": {
    "collapsed": false,
    "pycharm": {
     "name": "#%%\n"
    }
   }
  },
  {
   "cell_type": "code",
   "execution_count": null,
   "outputs": [],
   "source": [
    "model.compile(loss='categorical_crossentropy', \n",
    "              optimizer='adam', \n",
    "              metrics=['accuracy']) "
   ],
   "metadata": {
    "collapsed": false,
    "pycharm": {
     "name": "#%%\n"
    }
   }
  },
  {
   "cell_type": "code",
   "execution_count": null,
   "outputs": [],
   "source": [
    "history = model.fit( \n",
    "    X_train, \n",
    "    Y_train_categorical,\n",
    "    epochs=10,\n",
    "    validation_split=0.2) "
   ],
   "metadata": {
    "collapsed": false,
    "pycharm": {
     "name": "#%%\n"
    }
   }
  },
  {
   "cell_type": "code",
   "execution_count": null,
   "outputs": [],
   "source": [
    "eval_history = model.evaluate(X_test,\n",
    "                             Y_test_categorical)"
   ],
   "metadata": {
    "collapsed": false,
    "pycharm": {
     "name": "#%%\n"
    }
   }
  },
  {
   "cell_type": "code",
   "execution_count": null,
   "outputs": [],
   "source": [
    "CATEGORIES = list(map(chr, range(ord('A'), ord('Z'))))\n",
    "CATEGORIES.pop(9)"
   ],
   "metadata": {
    "collapsed": false,
    "pycharm": {
     "name": "#%%\n"
    }
   }
  },
  {
   "cell_type": "code",
   "execution_count": null,
   "outputs": [],
   "source": [
    "def predict(img):\n",
    "    prediction = model.predict_classes(img.reshape(1, 128, 128, 1))\n",
    "    print(\"Prediction:\", CATEGORIES[np.squeeze(prediction)])\n",
    "    show_image(img)"
   ],
   "metadata": {
    "collapsed": false,
    "pycharm": {
     "name": "#%%\n"
    }
   }
  },
  {
   "cell_type": "code",
   "execution_count": null,
   "outputs": [],
   "source": [
    "index = 4\n",
    "img_edges = X_test[index].reshape(128, 128)\n",
    "cat = CATEGORIES[Y_test[index]]\n",
    "prediction = model.predict_classes(X_test[index].reshape(1, 128, 128, 1))\n",
    "\n",
    "print(\"Original:\", cat)\n",
    "print(\"Prediction:\", CATEGORIES[np.squeeze(prediction)])\n",
    "show_image(img_edges)"
   ],
   "metadata": {
    "collapsed": false,
    "pycharm": {
     "name": "#%%\n"
    }
   }
  },
  {
   "cell_type": "code",
   "execution_count": null,
   "outputs": [],
   "source": [
    "def mask_skin(frame, visualize_steps= False):\n",
    "    converted2 = cv2.cvtColor(frame, cv2.COLOR_BGR2GRAY)\n",
    "    converted = cv2.cvtColor(frame, cv2.COLOR_BGR2HSV) # Convert from RGB to HSV\n",
    "    \n",
    "    lowerBoundary = np.array([0,40,30],dtype=\"uint8\")\n",
    "    upperBoundary = np.array([43,255,254],dtype=\"uint8\")\n",
    "    \n",
    "    skinMask = cv2.inRange(converted, lowerBoundary, upperBoundary)\n",
    "    skinMask = cv2.addWeighted(skinMask,0.5,skinMask,0.5,0.0)\n",
    "    skinMask = cv2.medianBlur(skinMask, 5)\n",
    "    \n",
    "    skin = cv2.bitwise_and(converted2, converted2, mask = skinMask)\n",
    "    \n",
    "    if visualize_steps:\n",
    "        show_image(cv2.cvtColor(frame, cv2.COLOR_BGR2RGB))\n",
    "        show_image(converted)\n",
    "        show_image(converted2)\n",
    "        show_image(skinMask)\n",
    "    \n",
    "    return skin"
   ],
   "metadata": {
    "collapsed": false,
    "pycharm": {
     "name": "#%%\n"
    }
   }
  },
  {
   "cell_type": "code",
   "execution_count": null,
   "outputs": [],
   "source": [
    "def process_image(img_array, visualize_steps= False):\n",
    "    frame = cv2.resize(img_array, (128, 128))\n",
    "    # frame = cv2.cvtColor(frame, cv2.COLOR_BGR2RGB)\n",
    "    \n",
    "    skin = mask_skin(frame, visualize_steps)\n",
    "    \n",
    "    edges = cv2.Canny(skin,60,60)\n",
    "    \n",
    "    if visualize_steps:\n",
    "        print(\"path:\", path)\n",
    "        print(\"shape:\", img_array.shape)\n",
    "        show_image(skin)\n",
    "        show_image(edges)\n",
    "            \n",
    "    cv2.destroyAllWindows()\n",
    "    return edges"
   ],
   "metadata": {
    "collapsed": false,
    "pycharm": {
     "name": "#%%\n"
    }
   }
  },
  {
   "cell_type": "code",
   "execution_count": null,
   "outputs": [],
   "source": [
    "p = r'C:\\Users\\jyoth\\OneDrive\\Pictures\\Camera Roll\\five.jpg'\n",
    "image = cv2.imread(p)\n",
    "edges = process_image(image)\n",
    "predict(edges)"
   ],
   "metadata": {
    "collapsed": false,
    "pycharm": {
     "name": "#%%\n"
    }
   }
  },
  {
   "cell_type": "code",
   "execution_count": null,
   "outputs": [],
   "source": [
    "cap = cv2.VideoCapture(0) # video capture source camera (Here webcam of laptop) \n",
    "while(True):\n",
    "    ret,frame = cap.read()\n",
    "    cv2.imshow('img1',frame) #display the captured image\n",
    "    k = cv2.waitKey(30)\n",
    "    if k == 27:\n",
    "        break\n",
    "\n",
    "cap.release()\n",
    "cv2.destroyAllWindows()\n",
    "\n",
    "edges = process_image(frame)\n",
    "predict(edges)"
   ],
   "metadata": {
    "collapsed": false,
    "pycharm": {
     "name": "#%%\n"
    }
   }
  },
  {
   "cell_type": "code",
   "execution_count": null,
   "outputs": [],
   "source": [
    "cv2.destroyAllWindows()"
   ],
   "metadata": {
    "collapsed": false,
    "pycharm": {
     "name": "#%%\n"
    }
   }
  },
  {
   "cell_type": "code",
   "execution_count": null,
   "metadata": {
    "pycharm": {
     "name": "#%%\n"
    }
   },
   "outputs": [],
   "source": [
    "model.save('mod')"
   ]
  },
  {
   "cell_type": "code",
   "execution_count": null,
   "metadata": {
    "pycharm": {
     "name": "#%%\n"
    }
   },
   "outputs": [],
   "source": [
    "model = tf.keras.models.load_model('mod')"
   ]
  },
  {
   "cell_type": "code",
   "execution_count": 20,
   "metadata": {},
   "outputs": [],
   "source": []
  },
  {
   "cell_type": "code",
   "execution_count": 21,
   "metadata": {},
   "outputs": [],
   "source": [
    "model.compile(loss='categorical_crossentropy', \n",
    "              optimizer='adam', \n",
    "              metrics=['accuracy']) "
   ]
  },
  {
   "cell_type": "code",
   "execution_count": 22,
   "metadata": {},
   "outputs": [
    {
     "name": "stdout",
     "output_type": "stream",
     "text": [
      "Train on 3182 samples, validate on 796 samples\n",
      "Epoch 1/10\n",
      "3182/3182 [==============================] - 20s 6ms/sample - loss: 2.3123 - accuracy: 0.3246 - val_loss: 0.9999 - val_accuracy: 0.7148\n",
      "Epoch 2/10\n",
      "3182/3182 [==============================] - 18s 6ms/sample - loss: 1.0545 - accuracy: 0.6666 - val_loss: 0.4041 - val_accuracy: 0.9095\n",
      "Epoch 3/10\n",
      "3182/3182 [==============================] - 20s 6ms/sample - loss: 0.6440 - accuracy: 0.7813 - val_loss: 0.1887 - val_accuracy: 0.9510\n",
      "Epoch 4/10\n",
      "3182/3182 [==============================] - 18s 6ms/sample - loss: 0.4453 - accuracy: 0.8495 - val_loss: 0.1422 - val_accuracy: 0.9623\n",
      "Epoch 5/10\n",
      "3182/3182 [==============================] - 18s 6ms/sample - loss: 0.3662 - accuracy: 0.8768 - val_loss: 0.1046 - val_accuracy: 0.9711\n",
      "Epoch 6/10\n",
      "3182/3182 [==============================] - 19s 6ms/sample - loss: 0.3124 - accuracy: 0.8953 - val_loss: 0.0805 - val_accuracy: 0.9799\n",
      "Epoch 7/10\n",
      "3182/3182 [==============================] - 19s 6ms/sample - loss: 0.2662 - accuracy: 0.9114 - val_loss: 0.0683 - val_accuracy: 0.9812\n",
      "Epoch 8/10\n",
      "3182/3182 [==============================] - 20s 6ms/sample - loss: 0.2494 - accuracy: 0.9107 - val_loss: 0.0516 - val_accuracy: 0.9887\n",
      "Epoch 9/10\n",
      "3182/3182 [==============================] - 19s 6ms/sample - loss: 0.2406 - accuracy: 0.9177 - val_loss: 0.0591 - val_accuracy: 0.9786\n",
      "Epoch 10/10\n",
      "3182/3182 [==============================] - 19s 6ms/sample - loss: 0.2040 - accuracy: 0.9290 - val_loss: 0.0708 - val_accuracy: 0.9799\n"
     ]
    }
   ],
   "source": [
    "history = model.fit( \n",
    "    X_train, \n",
    "    Y_train_categorical,\n",
    "    epochs=10,\n",
    "    validation_split=0.2) "
   ]
  },
  {
   "cell_type": "code",
   "execution_count": 23,
   "metadata": {},
   "outputs": [
    {
     "name": "stdout",
     "output_type": "stream",
     "text": [
      "497/497 [==============================] - 1s 1ms/sample - loss: 0.0848 - accuracy: 0.9779\n"
     ]
    }
   ],
   "source": [
    "eval_history = model.evaluate(X_test,\n",
    "                             Y_test_categorical)"
   ]
  },
  {
   "cell_type": "code",
   "execution_count": 3,
   "metadata": {},
   "outputs": [
    {
     "data": {
      "text/plain": [
       "'J'"
      ]
     },
     "execution_count": 3,
     "metadata": {},
     "output_type": "execute_result"
    }
   ],
   "source": [
    "CATEGORIES = list(map(chr, range(ord('A'), ord('Z'))))\n",
    "CATEGORIES.pop(9)"
   ]
  },
  {
   "cell_type": "code",
   "execution_count": 19,
   "metadata": {},
   "outputs": [],
   "source": [
    "def predict(img):\n",
    "    prediction = model.predict_classes(img.reshape(1, 128, 128, 1))\n",
    "    print(\"Prediction:\", CATEGORIES[np.squeeze(prediction)])\n",
    "    show_image(img)"
   ]
  },
  {
   "cell_type": "code",
   "execution_count": 11,
   "metadata": {},
   "outputs": [
    {
     "ename": "NameError",
     "evalue": "name 'X_test' is not defined",
     "output_type": "error",
     "traceback": [
      "\u001b[1;31m---------------------------------------------------------------------------\u001b[0m",
      "\u001b[1;31mNameError\u001b[0m                                 Traceback (most recent call last)",
      "\u001b[1;32m<ipython-input-11-0e63260fb82e>\u001b[0m in \u001b[0;36m<module>\u001b[1;34m\u001b[0m\n\u001b[0;32m      1\u001b[0m \u001b[0mindex\u001b[0m \u001b[1;33m=\u001b[0m \u001b[1;36m4\u001b[0m\u001b[1;33m\u001b[0m\u001b[1;33m\u001b[0m\u001b[0m\n\u001b[1;32m----> 2\u001b[1;33m \u001b[0mimg_edges\u001b[0m \u001b[1;33m=\u001b[0m \u001b[0mX_test\u001b[0m\u001b[1;33m[\u001b[0m\u001b[0mindex\u001b[0m\u001b[1;33m]\u001b[0m\u001b[1;33m.\u001b[0m\u001b[0mreshape\u001b[0m\u001b[1;33m(\u001b[0m\u001b[1;36m128\u001b[0m\u001b[1;33m,\u001b[0m \u001b[1;36m128\u001b[0m\u001b[1;33m)\u001b[0m\u001b[1;33m\u001b[0m\u001b[1;33m\u001b[0m\u001b[0m\n\u001b[0m\u001b[0;32m      3\u001b[0m \u001b[0mcat\u001b[0m \u001b[1;33m=\u001b[0m \u001b[0mCATEGORIES\u001b[0m\u001b[1;33m[\u001b[0m\u001b[0mY_test\u001b[0m\u001b[1;33m[\u001b[0m\u001b[0mindex\u001b[0m\u001b[1;33m]\u001b[0m\u001b[1;33m]\u001b[0m\u001b[1;33m\u001b[0m\u001b[1;33m\u001b[0m\u001b[0m\n\u001b[0;32m      4\u001b[0m \u001b[0mprediction\u001b[0m \u001b[1;33m=\u001b[0m \u001b[0mmodel\u001b[0m\u001b[1;33m.\u001b[0m\u001b[0mpredict_classes\u001b[0m\u001b[1;33m(\u001b[0m\u001b[0mX_test\u001b[0m\u001b[1;33m[\u001b[0m\u001b[0mindex\u001b[0m\u001b[1;33m]\u001b[0m\u001b[1;33m.\u001b[0m\u001b[0mreshape\u001b[0m\u001b[1;33m(\u001b[0m\u001b[1;36m1\u001b[0m\u001b[1;33m,\u001b[0m \u001b[1;36m128\u001b[0m\u001b[1;33m,\u001b[0m \u001b[1;36m128\u001b[0m\u001b[1;33m,\u001b[0m \u001b[1;36m1\u001b[0m\u001b[1;33m)\u001b[0m\u001b[1;33m)\u001b[0m\u001b[1;33m\u001b[0m\u001b[1;33m\u001b[0m\u001b[0m\n\u001b[0;32m      5\u001b[0m \u001b[1;33m\u001b[0m\u001b[0m\n",
      "\u001b[1;31mNameError\u001b[0m: name 'X_test' is not defined"
     ]
    }
   ],
   "source": [
    "index = 4\n",
    "img_edges = X_test[index].reshape(128, 128)\n",
    "cat = CATEGORIES[Y_test[index]]\n",
    "prediction = model.predict_classes(X_test[index].reshape(1, 128, 128, 1))\n",
    "\n",
    "print(\"Original:\", cat)\n",
    "print(\"Prediction:\", CATEGORIES[np.squeeze(prediction)])\n",
    "show_image(img_edges)"
   ]
  },
  {
   "cell_type": "code",
   "execution_count": 20,
   "metadata": {},
   "outputs": [],
   "source": [
    "def mask_skin(frame, visualize_steps= False):\n",
    "    converted2 = cv2.cvtColor(frame, cv2.COLOR_BGR2GRAY)\n",
    "    converted = cv2.cvtColor(frame, cv2.COLOR_BGR2HSV) # Convert from RGB to HSV\n",
    "    \n",
    "    lowerBoundary = np.array([0,40,30],dtype=\"uint8\")\n",
    "    upperBoundary = np.array([43,255,254],dtype=\"uint8\")\n",
    "    \n",
    "    skinMask = cv2.inRange(converted, lowerBoundary, upperBoundary)\n",
    "    skinMask = cv2.addWeighted(skinMask,0.5,skinMask,0.5,0.0)\n",
    "    skinMask = cv2.medianBlur(skinMask, 5)\n",
    "    \n",
    "    skin = cv2.bitwise_and(converted2, converted2, mask = skinMask)\n",
    "    \n",
    "    if visualize_steps:\n",
    "        show_image(cv2.cvtColor(frame, cv2.COLOR_BGR2RGB))\n",
    "        show_image(converted)\n",
    "        show_image(converted2)\n",
    "        show_image(skinMask)\n",
    "    \n",
    "    return skin"
   ]
  },
  {
   "cell_type": "code",
   "execution_count": 21,
   "metadata": {},
   "outputs": [],
   "source": [
    "def process_image(img_array, visualize_steps= False):\n",
    "    frame = cv2.resize(img_array, (128, 128))\n",
    "    # frame = cv2.cvtColor(frame, cv2.COLOR_BGR2RGB)\n",
    "    \n",
    "    skin = mask_skin(frame, visualize_steps)\n",
    "    \n",
    "    edges = cv2.Canny(skin,60,60)\n",
    "    \n",
    "    if visualize_steps:\n",
    "        print(\"path:\", path)\n",
    "        print(\"shape:\", img_array.shape)\n",
    "        show_image(skin)\n",
    "        show_image(edges)\n",
    "            \n",
    "    cv2.destroyAllWindows()\n",
    "    return edges"
   ]
  },
  {
   "cell_type": "code",
   "execution_count": 22,
   "metadata": {},
   "outputs": [
    {
     "name": "stdout",
     "output_type": "stream",
     "text": [
      "Prediction: E\n"
     ]
    },
    {
     "data": {
      "image/png": "[encoded data removed]",
      "text/plain": [
       "<Figure size 432x288 with 1 Axes>"
      ]
     },
     "metadata": {
      "needs_background": "light"
     },
     "output_type": "display_data"
    }
   ],
   "source": [
    "p = r'C:\\Users\\jyoth\\OneDrive\\Pictures\\Camera Roll\\five.jpg'\n",
    "image = cv2.imread(p)\n",
    "edges = process_image(image)\n",
    "predict(edges)"
   ]
  },
  {
   "cell_type": "code",
   "execution_count": 35,
   "metadata": {},
   "outputs": [
    {
     "name": "stdout",
     "output_type": "stream",
     "text": [
      "Prediction: Y\n"
     ]
    },
    {
     "data": {
      "image/png": "[encoded data removed]",
      "text/plain": [
       "<Figure size 432x288 with 1 Axes>"
      ]
     },
     "metadata": {
      "needs_background": "light"
     },
     "output_type": "display_data"
    }
   ],
   "source": [
    "cap = cv2.VideoCapture(0) # video capture source camera (Here webcam of laptop) \n",
    "while(True):\n",
    "    ret,frame = cap.read()\n",
    "    cv2.imshow('img1',frame) #display the captured image\n",
    "    k = cv2.waitKey(30)\n",
    "    if k == 27:\n",
    "        break\n",
    "\n",
    "cap.release()\n",
    "cv2.destroyAllWindows()\n",
    "\n",
    "edges = process_image(frame)\n",
    "predict(edges)"
   ]
  },
  {
   "cell_type": "code",
   "execution_count": 25,
   "metadata": {},
   "outputs": [],
   "source": [
    "cv2.destroyAllWindows()"
   ]
  },
  {
   "cell_type": "code",
   "execution_count": 31,
   "metadata": {},
   "outputs": [
    {
     "name": "stdout",
     "output_type": "stream",
     "text": [
      "WARNING:tensorflow:From D:\\ProgramData\\Anaconda3\\envs\\tensor\\lib\\site-packages\\tensorflow_core\\python\\ops\\resource_variable_ops.py:1786: calling BaseResourceVariable.__init__ (from tensorflow.python.ops.resource_variable_ops) with constraint is deprecated and will be removed in a future version.\n",
      "Instructions for updating:\n",
      "If using Keras pass *_constraint arguments to layers.\n",
      "INFO:tensorflow:Assets written to: mod\\assets\n"
     ]
    }
   ],
   "source": [
    "model.save('mod')"
   ]
  },
  {
   "cell_type": "code",
   "execution_count": 18,
   "metadata": {},
   "outputs": [],
   "source": [
    "model = tf.keras.models.load_model('mod')"
   ]
  },
  {
   "cell_type": "code",
   "execution_count": null,
   "metadata": {},
   "outputs": [],
   "source": []
  }
 ],
 "metadata": {
  "kernelspec": {
   "display_name": "Python 3",
   "language": "python",
   "name": "python3"
  },
  "language_info": {
   "codemirror_mode": {
    "name": "ipython",
    "version": 3
   },
   "file_extension": ".py",
   "mimetype": "text/x-python",
   "name": "python",
   "nbconvert_exporter": "python",
   "pygments_lexer": "ipython3",
   "version": "3.7.6"
  },
  "pycharm": {
   "stem_cell": {
    "cell_type": "raw",
    "source": [],
    "metadata": {
     "collapsed": false
    }
   }
  }
 },
 "nbformat": 4,
 "nbformat_minor": 4
}