{
 "cells": [
  {
   "cell_type": "markdown",
   "metadata": {},
   "source": [
    "#### Importing libraries."
   ]
  },
  {
   "cell_type": "code",
   "execution_count": 3,
   "metadata": {},
   "outputs": [
    {
     "name": "stdout",
     "output_type": "stream",
     "text": [
      "Imports Successful.\n"
     ]
    }
   ],
   "source": [
    "import tensorflow as tf\n",
    "from tensorflow.keras import layers\n",
    "import os\n",
    "import cv2\n",
    "import matplotlib.pyplot as plt\n",
    "import numpy as np\n",
    "print('Imports Successful.')"
   ]
  },
  {
   "cell_type": "markdown",
   "metadata": {},
   "source": [
    "#### Loading the dataset"
   ]
  },
  {
   "cell_type": "code",
   "execution_count": 4,
   "metadata": {},
   "outputs": [],
   "source": [
    "X_train, Y_train, X_test, Y_test, X_dev, Y_dev = np.load('dataset.npy', allow_pickle=True)"
   ]
  },
  {
   "cell_type": "code",
   "execution_count": 8,
   "metadata": {},
   "outputs": [
    {
     "data": {
      "text/plain": [
       "array([array([[ 23, 104, 227, ..., 181, 227, 228],\n",
       "       [ 65, 132,  46, ..., 128, 243, 210],\n",
       "       [ 89,  33, 187, ...,  34,   7,  96],\n",
       "       ...,\n",
       "       [252,  14, 133, ..., 233,  82,  96],\n",
       "       [244, 165, 157, ..., 163,   6,  99],\n",
       "       [120, 116, 248, ...,  90,  70,  42]], dtype=uint8),\n",
       "       array([[241,  86,  74, ..., 224, 106,  82],\n",
       "       [ 97,  48, 136, ..., 104,  82,  82],\n",
       "       [ 68, 162, 165, ..., 232,  20, 113],\n",
       "       ...,\n",
       "       [220, 108, 174, ..., 113,  60, 106],\n",
       "       [ 77, 184, 148, ...,  68, 137,  95],\n",
       "       [ 93,  36, 172, ..., 101, 143, 102]], dtype=uint8),\n",
       "       array([[ 49,  38, 206, ..., 104, 120, 128],\n",
       "       [ 80,  95,  95, ..., 114,  39, 251],\n",
       "       [ 73, 126, 149, ..., 117,   9,  93],\n",
       "       ...,\n",
       "       [ 90, 170, 172, ...,   4,  15,  79],\n",
       "       [ 86, 178, 189, ..., 120,  39,   3],\n",
       "       [118, 229,  37, ...,  43, 210, 130]], dtype=uint8),\n",
       "       ...,\n",
       "       array([[ 36, 188, 189, ..., 112, 198, 251],\n",
       "       [ 64,  48,  31, ...,   0,   7, 114],\n",
       "       [101,  59, 129, ..., 127, 214, 252],\n",
       "       ...,\n",
       "       [ 19, 191, 122, ...,   0, 135, 199],\n",
       "       [  2, 187, 216, ..., 132, 175, 157],\n",
       "       [160, 141, 109, ..., 136, 212, 250]], dtype=uint8),\n",
       "       array([[227, 254, 172, ..., 116, 187, 223],\n",
       "       [198, 191, 234, ..., 247,  39, 246],\n",
       "       [ 42, 114, 108, ..., 152, 198, 146],\n",
       "       ...,\n",
       "       [ 92,  80, 189, ..., 115, 133,  82],\n",
       "       [244, 232,  29, ...,  19,   7,  26],\n",
       "       [116, 161, 184, ..., 146, 134,  99]], dtype=uint8),\n",
       "       array([[230, 205, 128, ..., 255, 134, 112],\n",
       "       [ 64, 208, 153, ...,   2, 141,  51],\n",
       "       [119, 224,  69, ..., 131,  82,  72],\n",
       "       ...,\n",
       "       [ 87, 188, 223, ...,  42,   1, 102],\n",
       "       [ 85, 253, 165, ..., 114, 151, 110],\n",
       "       [ 85, 157, 181, ..., 115, 213, 110]], dtype=uint8)], dtype=object)"
      ]
     },
     "execution_count": 8,
     "metadata": {},
     "output_type": "execute_result"
    }
   ],
   "source": [
    "X_train"
   ]
  },
  {
   "cell_type": "code",
   "execution_count": 6,
   "metadata": {},
   "outputs": [
    {
     "name": "stdout",
     "output_type": "stream",
     "text": [
      "Length of Training set: 4475\n",
      "Length of Test set: 497\n",
      "Length of Dev set: 0\n",
      "\n",
      "Shape of training set: (4475,)\n"
     ]
    }
   ],
   "source": [
    "m = len(X_train)\n",
    "\n",
    "print(\"Length of Training set:\", m)\n",
    "print(\"Length of Test set:\", len(X_test))\n",
    "print(\"Length of Dev set:\", len(X_dev))\n",
    "print()\n",
    "print(\"Shape of training set:\", X_train.shape)"
   ]
  },
  {
   "cell_type": "code",
   "execution_count": null,
   "metadata": {},
   "outputs": [],
   "source": []
  }
 ],
 "metadata": {
  "kernelspec": {
   "display_name": "Python 3",
   "language": "python",
   "name": "python3"
  },
  "language_info": {
   "codemirror_mode": {
    "name": "ipython",
    "version": 3
   },
   "file_extension": ".py",
   "mimetype": "text/x-python",
   "name": "python",
   "nbconvert_exporter": "python",
   "pygments_lexer": "ipython3",
   "version": "3.7.6"
  }
 },
 "nbformat": 4,
 "nbformat_minor": 4
}
